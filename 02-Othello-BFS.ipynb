{
 "cells": [
  {
   "cell_type": "markdown",
   "metadata": {},
   "source": [
    "# BFS"
   ]
  },
  {
   "cell_type": "code",
   "execution_count": 1,
   "metadata": {},
   "outputs": [],
   "source": [
    "%load_ext autoreload\n",
    "%autoreload 2"
   ]
  },
  {
   "cell_type": "code",
   "execution_count": 2,
   "metadata": {},
   "outputs": [],
   "source": [
    "from othello.OthelloGame import OthelloGame as Game\n",
    "from othello.OthelloGame import display as displayGame\n",
    "from matplotlib import pyplot as plt\n",
    "from matplotlib import patches\n",
    "import numpy as np\n",
    "from tree_search_algs import bfs_depth, bfs_cannonical, bfs_no_depth"
   ]
  },
  {
   "cell_type": "code",
   "execution_count": 3,
   "metadata": {},
   "outputs": [],
   "source": [
    "n = 4\n",
    "game = Game(n)\n",
    "board = game.getInitBoard()"
   ]
  },
  {
   "cell_type": "code",
   "execution_count": 5,
   "metadata": {},
   "outputs": [
    {
     "name": "stdout",
     "output_type": "stream",
     "text": [
      "Profundidad: 1\n",
      "Estados hasta el momento: 1\n",
      "Time: 0.0\n",
      "Profundidad: 2\n",
      "Estados hasta el momento: 5\n",
      "Time: 0.0\n",
      "Profundidad: 3\n",
      "Estados hasta el momento: 17\n",
      "Time: 0.01\n",
      "Profundidad: 4\n",
      "Estados hasta el momento: 59\n",
      "Time: 0.06\n",
      "Profundidad: 5\n",
      "Estados hasta el momento: 179\n",
      "Time: 0.06\n",
      "Profundidad: 6\n",
      "Estados hasta el momento: 555\n",
      "Time: 0.19\n",
      "Profundidad: 7\n",
      "Estados hasta el momento: 1603\n",
      "Time: 0.64\n",
      "Profundidad: 8\n",
      "Estados hasta el momento: 4121\n",
      "Time: 1.71\n",
      "Profundidad: 9\n",
      "Estados hasta el momento: 9769\n",
      "Time: 3.67\n",
      "Profundidad: 10\n",
      "Estados hasta el momento: 19487\n",
      "Time: 6.1\n",
      "Profundidad: 11\n",
      "Estados hasta el momento: 32295\n",
      "Time: 13.1\n",
      "Profundidad: 12\n",
      "Estados hasta el momento: 43195\n",
      "Time: 9.95\n",
      "Profundidad: 13\n",
      "Estados hasta el momento: 46317\n",
      "Time: 7.57\n",
      "Profundidad: 14\n",
      "Estados hasta el momento: 46673\n",
      "Time: 3.04\n",
      "Profundidad: 15\n",
      "Estados hasta el momento: 46689\n",
      "Time: 0.32\n",
      "Profundidad: 16\n",
      "Estados hasta el momento: 46689\n",
      "Time: 0.01\n",
      "Profundidad: 17\n",
      "Estados hasta el momento: 46689\n",
      "Time: 0.0\n",
      "CPU times: user 41.3 s, sys: 684 ms, total: 42 s\n",
      "Wall time: 46.5 s\n"
     ]
    }
   ],
   "source": [
    "%time states_depth = bfs_depth(game, board, verbose=1)"
   ]
  },
  {
   "cell_type": "code",
   "execution_count": 6,
   "metadata": {},
   "outputs": [
    {
     "name": "stdout",
     "output_type": "stream",
     "text": [
      "CPU times: user 37.6 s, sys: 359 ms, total: 37.9 s\n",
      "Wall time: 38.5 s\n"
     ]
    }
   ],
   "source": [
    "%time states_no_depth = bfs_no_depth(game, board)"
   ]
  },
  {
   "cell_type": "code",
   "execution_count": 9,
   "metadata": {},
   "outputs": [
    {
     "name": "stdout",
     "output_type": "stream",
     "text": [
      "CPU times: user 58.3 s, sys: 535 ms, total: 58.9 s\n",
      "Wall time: 1min\n"
     ]
    }
   ],
   "source": [
    "%time states_cannonical = bfs_cannonical(game, board)"
   ]
  },
  {
   "cell_type": "code",
   "execution_count": 10,
   "metadata": {},
   "outputs": [
    {
     "data": {
      "text/plain": [
       "(46689, 58533, 53651)"
      ]
     },
     "execution_count": 10,
     "metadata": {},
     "output_type": "execute_result"
    }
   ],
   "source": [
    "len(states_depth), len(set(states_no_depth)), len(states_cannonical)"
   ]
  },
  {
   "cell_type": "markdown",
   "metadata": {},
   "source": [
    "# 6x6 (Analyse if it is possible because of number of states)\n",
    "The keys have to be string because of shelve"
   ]
  },
  {
   "cell_type": "code",
   "execution_count": 4,
   "metadata": {},
   "outputs": [],
   "source": [
    "n = 6\n",
    "game = Game(n)\n",
    "board = game.getInitBoard()"
   ]
  },
  {
   "cell_type": "code",
   "execution_count": 5,
   "metadata": {},
   "outputs": [],
   "source": [
    "board_str = str(board.reshape(-1) + 1)[1:-1]"
   ]
  },
  {
   "cell_type": "code",
   "execution_count": 6,
   "metadata": {},
   "outputs": [
    {
     "data": {
      "text/plain": [
       "array([[ 0,  0,  0,  0,  0,  0],\n",
       "       [ 0,  0,  0,  0,  0,  0],\n",
       "       [ 0,  0, -1,  1,  0,  0],\n",
       "       [ 0,  0,  1, -1,  0,  0],\n",
       "       [ 0,  0,  0,  0,  0,  0],\n",
       "       [ 0,  0,  0,  0,  0,  0]])"
      ]
     },
     "execution_count": 6,
     "metadata": {},
     "output_type": "execute_result"
    }
   ],
   "source": [
    "(np.array(board_str.split(' '), dtype=int) - 1).reshape(game.n, game.n)"
   ]
  },
  {
   "cell_type": "code",
   "execution_count": 22,
   "metadata": {},
   "outputs": [],
   "source": [
    "import os\n",
    "import shelve\n",
    "import collections\n",
    "def bfs_cannonical(game, root, folder, first_player=1):\n",
    "    if not os.path.exists(folder):\n",
    "        os.makedirs(folder)\n",
    "    state_str = str(root.reshape(-1) + 1)[1:-1]\n",
    "    seen = set([])\n",
    "    cannonical_states = shelve.open(folder+'/states', flag='n', writeback=True) \n",
    "    # cannonical_states = {}\n",
    "    # deque es como una pila pero con doble entrada (rear-front)\n",
    "    queue = collections.deque([state_str])\n",
    "    while queue:\n",
    "        vertex = queue.popleft()\n",
    "        state = (np.array(vertex.split(' '), dtype=int) - 1).reshape(game.n, game.n)\n",
    "        valid_moves = np.array(game.getValidMoves(state, 1))\n",
    "        valid_moves = np.where(valid_moves == 1)[0]\n",
    "        if game.getGameEnded(state, 1) == 0:\n",
    "            cannonical_states[vertex] = {}\n",
    "            for action in valid_moves:\n",
    "                cannonical_states[vertex][action] = {}\n",
    "                next_state, next_player = game.getNextState(state, 1, action)\n",
    "                next_state = game.getCanonicalForm(next_state, -1)\n",
    "                node = str(next_state.reshape(-1) + 1)[1:-1]\n",
    "                cannonical_states[vertex][action]['winner'] = game.getGameEnded(next_state, 1) # * np.abs(next_state.sum())\n",
    "                cannonical_states[vertex][action]['next_node'] = node\n",
    "                if node not in seen:\n",
    "                    seen.add(node)\n",
    "                    queue.append(node)\n",
    "        N = len(cannonical_states)\n",
    "        if N%10000 == 0:\n",
    "            print('\\rstates: {}'.format(N), end='')\n",
    "            cannonical_states.sync()\n",
    "    print()\n",
    "    cannonical_states.close()\n",
    "    return states"
   ]
  },
  {
   "cell_type": "code",
   "execution_count": null,
   "metadata": {},
   "outputs": [
    {
     "name": "stdout",
     "output_type": "stream",
     "text": [
      "states: 1330000"
     ]
    }
   ],
   "source": [
    "%time _ = bfs_cannonical(game, board, './data/6by6', first_player=1)"
   ]
  },
  {
   "cell_type": "code",
   "execution_count": 1,
   "metadata": {},
   "outputs": [
    {
     "data": {
      "text/plain": [
       "1"
      ]
     },
     "execution_count": 1,
     "metadata": {},
     "output_type": "execute_result"
    }
   ],
   "source": [
    "1"
   ]
  },
  {
   "cell_type": "code",
   "execution_count": null,
   "metadata": {},
   "outputs": [],
   "source": []
  }
 ],
 "metadata": {
  "kernelspec": {
   "display_name": "Python 3",
   "language": "python",
   "name": "python3"
  },
  "language_info": {
   "codemirror_mode": {
    "name": "ipython",
    "version": 3
   },
   "file_extension": ".py",
   "mimetype": "text/x-python",
   "name": "python",
   "nbconvert_exporter": "python",
   "pygments_lexer": "ipython3",
   "version": "3.6.8"
  }
 },
 "nbformat": 4,
 "nbformat_minor": 2
}
