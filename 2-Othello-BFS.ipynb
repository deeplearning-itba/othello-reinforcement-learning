{
 "cells": [
  {
   "cell_type": "markdown",
   "metadata": {},
   "source": [
    "# BFS"
   ]
  },
  {
   "cell_type": "code",
   "execution_count": 11,
   "metadata": {},
   "outputs": [
    {
     "name": "stdout",
     "output_type": "stream",
     "text": [
      "The autoreload extension is already loaded. To reload it, use:\n",
      "  %reload_ext autoreload\n"
     ]
    }
   ],
   "source": [
    "%load_ext autoreload\n",
    "%autoreload 2"
   ]
  },
  {
   "cell_type": "code",
   "execution_count": 12,
   "metadata": {},
   "outputs": [],
   "source": [
    "from numba import jit"
   ]
  },
  {
   "cell_type": "code",
   "execution_count": 13,
   "metadata": {},
   "outputs": [],
   "source": [
    "from othello.OthelloGame import OthelloGame as Game\n",
    "from othello.OthelloGame import display as displayGame\n",
    "from matplotlib import pyplot as plt\n",
    "from matplotlib import patches\n",
    "import numpy as np\n",
    "from tree_search_algs import bfs_depth, bfs_cannonical, bfs_no_depth"
   ]
  },
  {
   "cell_type": "code",
   "execution_count": 4,
   "metadata": {},
   "outputs": [],
   "source": [
    "n = 4\n",
    "game = Game(n)\n",
    "board = game.getInitBoard()"
   ]
  },
  {
   "cell_type": "code",
   "execution_count": 5,
   "metadata": {},
   "outputs": [
    {
     "name": "stdout",
     "output_type": "stream",
     "text": [
      "Profundidad: 1\n",
      "Estados hasta el momento: 1\n",
      "Time: 0.0\n",
      "Profundidad: 2\n",
      "Estados hasta el momento: 5\n",
      "Time: 0.0\n",
      "Profundidad: 3\n",
      "Estados hasta el momento: 17\n",
      "Time: 0.0\n",
      "Profundidad: 4\n",
      "Estados hasta el momento: 59\n",
      "Time: 0.0\n",
      "Profundidad: 5\n",
      "Estados hasta el momento: 179\n",
      "Time: 0.03\n",
      "Profundidad: 6\n",
      "Estados hasta el momento: 555\n",
      "Time: 0.09\n",
      "Profundidad: 7\n",
      "Estados hasta el momento: 1603\n",
      "Time: 0.29\n",
      "Profundidad: 8\n",
      "Estados hasta el momento: 4121\n",
      "Time: 0.68\n",
      "Profundidad: 9\n",
      "Estados hasta el momento: 9769\n",
      "Time: 1.64\n",
      "Profundidad: 10\n",
      "Estados hasta el momento: 19487\n",
      "Time: 2.81\n",
      "Profundidad: 11\n",
      "Estados hasta el momento: 32295\n",
      "Time: 4.23\n",
      "Profundidad: 12\n",
      "Estados hasta el momento: 43195\n",
      "Time: 4.4\n",
      "Profundidad: 13\n",
      "Estados hasta el momento: 46317\n",
      "Time: 4.01\n",
      "Profundidad: 14\n",
      "Estados hasta el momento: 46673\n",
      "Time: 1.64\n",
      "Profundidad: 15\n",
      "Estados hasta el momento: 46689\n",
      "Time: 0.15\n",
      "Profundidad: 16\n",
      "Estados hasta el momento: 46689\n",
      "Time: 0.0\n",
      "Profundidad: 17\n",
      "Estados hasta el momento: 46689\n",
      "Time: 0.0\n",
      "CPU times: user 20.3 s, sys: 646 ms, total: 20.9 s\n",
      "Wall time: 20.1 s\n"
     ]
    }
   ],
   "source": [
    "%time states_depth = bfs_depth(game, board, verbose=1)"
   ]
  },
  {
   "cell_type": "code",
   "execution_count": 6,
   "metadata": {},
   "outputs": [
    {
     "name": "stdout",
     "output_type": "stream",
     "text": [
      "CPU times: user 19.4 s, sys: 300 ms, total: 19.7 s\n",
      "Wall time: 19.3 s\n"
     ]
    }
   ],
   "source": [
    "%time states_no_depth = bfs_no_depth(game, board)"
   ]
  },
  {
   "cell_type": "code",
   "execution_count": 9,
   "metadata": {},
   "outputs": [
    {
     "name": "stdout",
     "output_type": "stream",
     "text": [
      "CPU times: user 28.5 s, sys: 240 ms, total: 28.7 s\n",
      "Wall time: 28.4 s\n"
     ]
    }
   ],
   "source": [
    "%time states_cannonical = bfs_cannonical(game, board)"
   ]
  },
  {
   "cell_type": "code",
   "execution_count": 10,
   "metadata": {},
   "outputs": [
    {
     "data": {
      "text/plain": [
       "(46689, 58533, 53651)"
      ]
     },
     "execution_count": 10,
     "metadata": {},
     "output_type": "execute_result"
    }
   ],
   "source": [
    "len(states_depth), len(set(states_no_depth)), len(states_cannonical)"
   ]
  },
  {
   "cell_type": "markdown",
   "metadata": {},
   "source": [
    "# 6x6"
   ]
  },
  {
   "cell_type": "code",
   "execution_count": 33,
   "metadata": {},
   "outputs": [],
   "source": [
    "n = 4\n",
    "game = Game(n)\n",
    "board = game.getInitBoard()"
   ]
  },
  {
   "cell_type": "code",
   "execution_count": 49,
   "metadata": {},
   "outputs": [],
   "source": [
    "directions = np.array([(1,1),(1,0),(1,-1),(0,-1),(-1,-1),(-1,0),(-1,1),(0,1)])"
   ]
  },
  {
   "cell_type": "code",
   "execution_count": 50,
   "metadata": {},
   "outputs": [
    {
     "data": {
      "text/plain": [
       "array([[ 1,  1],\n",
       "       [ 1,  0],\n",
       "       [ 1, -1],\n",
       "       [ 0, -1],\n",
       "       [-1, -1],\n",
       "       [-1,  0],\n",
       "       [-1,  1],\n",
       "       [ 0,  1]])"
      ]
     },
     "execution_count": 50,
     "metadata": {},
     "output_type": "execute_result"
    }
   ],
   "source": [
    "np.array(directions)"
   ]
  },
  {
   "cell_type": "code",
   "execution_count": 84,
   "metadata": {},
   "outputs": [
    {
     "data": {
      "text/plain": [
       "array([False, False, False, False, False, False, False, False])"
      ]
     },
     "execution_count": 84,
     "metadata": {},
     "output_type": "execute_result"
    }
   ],
   "source": []
  },
  {
   "cell_type": "code",
   "execution_count": 83,
   "metadata": {},
   "outputs": [
    {
     "data": {
      "text/plain": [
       "array([[ 10211.,  10211.],\n",
       "       [ 10211.,      0.],\n",
       "       [ 10211., -10211.],\n",
       "       [     0., -10211.],\n",
       "       [-10211., -10211.],\n",
       "       [-10211.,      0.],\n",
       "       [-10211.,  10211.],\n",
       "       [     0.,  10211.]])"
      ]
     },
     "execution_count": 83,
     "metadata": {},
     "output_type": "execute_result"
    }
   ],
   "source": [
    "step"
   ]
  },
  {
   "cell_type": "code",
   "execution_count": 87,
   "metadata": {},
   "outputs": [],
   "source": [
    "n = board.shape[0]\n",
    "x = 0\n",
    "y = 0\n",
    "ones_array = np.ones([2, 8]).T\n",
    "step = ones_array * np.array([x, y])\n",
    "\n",
    "while ((step[:,0]>=0) * (step[:,0]<n) * (step[:,1]>=0) * (step[:,1]<n)).sum() > 0:\n",
    "    step = step + directions"
   ]
  },
  {
   "cell_type": "code",
   "execution_count": 46,
   "metadata": {},
   "outputs": [
    {
     "name": "stdout",
     "output_type": "stream",
     "text": [
      "0\n",
      "0\n",
      "0\n",
      "0\n",
      "0\n",
      "-1\n",
      "1\n",
      "0\n",
      "0\n",
      "1\n",
      "-1\n",
      "0\n",
      "0\n",
      "0\n",
      "0\n",
      "0\n"
     ]
    }
   ],
   "source": [
    "\n",
    "for y in range(n):\n",
    "    for x in range(n):\n",
    "        if board[x, y] == 1:\n",
    "            for dx in \n",
    "        print(board[x, y])"
   ]
  },
  {
   "cell_type": "code",
   "execution_count": null,
   "metadata": {},
   "outputs": [],
   "source": []
  },
  {
   "cell_type": "code",
   "execution_count": 39,
   "metadata": {},
   "outputs": [],
   "source": [
    "def get_legal_moves(board, player):\n",
    "    \"\"\"Returns all the legal moves for the given color.\n",
    "    (1 for white, -1 for black\n",
    "    \"\"\"\n",
    "    n = board.shape[0]\n",
    "    moves = set()  # stores the legal moves.\n",
    "\n",
    "    # Get all the squares with pieces of the given color.\n",
    "    for y in range(n):\n",
    "        for x in range(n):\n",
    "            if board[x][y]==color:\n",
    "                newmoves = self.get_moves_for_square((x,y))\n",
    "                moves.update(newmoves)\n",
    "    return list(moves)\n",
    "\n",
    "def getGameEnded(self, board, player):\n",
    "    # return 0 if not ended, 1 if player 1 won, -1 if player 1 lost\n",
    "    # player = 1\n",
    "    b = Board(self.n)\n",
    "    b.pieces = np.copy(board)\n",
    "    if b.has_legal_moves(player):\n",
    "        return 0\n",
    "    if b.has_legal_moves(-player):\n",
    "        return 0\n",
    "    diff = b.countDiff(player)\n",
    "    if diff > 0:\n",
    "        return 1\n",
    "    elif diff < 0:\n",
    "        return -1\n",
    "    # draw case\n",
    "    return -0.2"
   ]
  },
  {
   "cell_type": "code",
   "execution_count": 34,
   "metadata": {},
   "outputs": [],
   "source": [
    "def bfs_depth(game, root, verbose=0):\n",
    "    n = root.shape[0]\n",
    "    root_str = tuple(root.reshape(-1))\n",
    "    depth = 0\n",
    "    seen = set([(root_str, np.power(-1, depth))])\n",
    "    cannonical_states = {}\n",
    "    # deque es como una pila pero con doble entrada (rear-front)\n",
    "    queue = collections.deque([root_str, 'level_end'])\n",
    "    player = 1\n",
    "    time0 = time.time()\n",
    "    while queue:\n",
    "        vertex = queue.popleft()\n",
    "        if vertex == 'level_end':\n",
    "            depth = depth + 1\n",
    "            player = np.power(-1, depth)\n",
    "            queue.append('level_end')\n",
    "            vertex = queue.popleft()   \n",
    "            if verbose == 1:\n",
    "                print('Profundidad:', depth)\n",
    "                print('Estados hasta el momento:', len(cannonical_states))\n",
    "                time1 = time.time()\n",
    "                print('Time:', int((time1 - time0) * 100)/100)\n",
    "                time0 = time1\n",
    "            if vertex == 'level_end':\n",
    "                break\n",
    "        state = np.array(vertex).reshape(n, n)\n",
    "        valid_moves = np.array(game.getValidMoves(state, player))\n",
    "        valid_moves = np.where(valid_moves == 1)[0]\n",
    "        if game.getGameEnded(state, player) == 0:\n",
    "            cannonical_states[vertex] = {}\n",
    "            for action in valid_moves:\n",
    "                cannonical_states[vertex][action] = {}\n",
    "                next_state, _ = game.getNextState(state, player, action)\n",
    "                node = tuple(next_state.reshape(-1))\n",
    "                if (node, player) not in seen:\n",
    "                    cannonical_states[vertex][action]['next_node'] = node*player\n",
    "                    seen.add((node, player))\n",
    "                    queue.append(node)\n",
    "    return cannonical_states"
   ]
  },
  {
   "cell_type": "code",
   "execution_count": 35,
   "metadata": {},
   "outputs": [
    {
     "name": "stdout",
     "output_type": "stream",
     "text": [
      "Profundidad: 1\n",
      "Estados hasta el momento: 1\n",
      "Time: 0.0\n",
      "Profundidad: 2\n",
      "Estados hasta el momento: 5\n",
      "Time: 0.0\n",
      "Profundidad: 3\n",
      "Estados hasta el momento: 17\n",
      "Time: 0.0\n",
      "Profundidad: 4\n",
      "Estados hasta el momento: 59\n",
      "Time: 0.0\n",
      "Profundidad: 5\n",
      "Estados hasta el momento: 179\n",
      "Time: 0.03\n",
      "Profundidad: 6\n",
      "Estados hasta el momento: 555\n",
      "Time: 0.09\n",
      "Profundidad: 7\n",
      "Estados hasta el momento: 1603\n",
      "Time: 0.29\n",
      "Profundidad: 8\n",
      "Estados hasta el momento: 4121\n",
      "Time: 0.65\n",
      "Profundidad: 9\n",
      "Estados hasta el momento: 9769\n",
      "Time: 1.59\n",
      "Profundidad: 10\n",
      "Estados hasta el momento: 19487\n",
      "Time: 2.76\n",
      "Profundidad: 11\n",
      "Estados hasta el momento: 32295\n",
      "Time: 4.17\n",
      "Profundidad: 12\n",
      "Estados hasta el momento: 43195\n",
      "Time: 4.46\n",
      "Profundidad: 13\n",
      "Estados hasta el momento: 46317\n",
      "Time: 4.04\n",
      "Profundidad: 14\n",
      "Estados hasta el momento: 46673\n",
      "Time: 1.57\n",
      "Profundidad: 15\n",
      "Estados hasta el momento: 46689\n",
      "Time: 0.15\n",
      "Profundidad: 16\n",
      "Estados hasta el momento: 46689\n",
      "Time: 0.01\n",
      "Profundidad: 17\n",
      "Estados hasta el momento: 46689\n",
      "Time: 0.0\n",
      "CPU times: user 20.1 s, sys: 457 ms, total: 20.6 s\n",
      "Wall time: 19.9 s\n"
     ]
    }
   ],
   "source": [
    "%time x = bfs_depth(game, board, verbose=1)"
   ]
  },
  {
   "cell_type": "code",
   "execution_count": null,
   "metadata": {},
   "outputs": [],
   "source": []
  }
 ],
 "metadata": {
  "kernelspec": {
   "display_name": "Python 3",
   "language": "python",
   "name": "python3"
  },
  "language_info": {
   "codemirror_mode": {
    "name": "ipython",
    "version": 3
   },
   "file_extension": ".py",
   "mimetype": "text/x-python",
   "name": "python",
   "nbconvert_exporter": "python",
   "pygments_lexer": "ipython3",
   "version": "3.6.8"
  }
 },
 "nbformat": 4,
 "nbformat_minor": 2
}
