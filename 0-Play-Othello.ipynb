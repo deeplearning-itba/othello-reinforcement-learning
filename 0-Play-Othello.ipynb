{
 "cells": [
  {
   "cell_type": "code",
   "execution_count": 1,
   "metadata": {},
   "outputs": [],
   "source": [
    "%load_ext autoreload\n",
    "%autoreload 2\n",
    "%config InlineBackend.figure_format = 'retina'"
   ]
  },
  {
   "cell_type": "markdown",
   "metadata": {},
   "source": [
    "OthelloGame, OthelloLogic, OthelloPlayers taken from:\n",
    "\n",
    "https://github.com/suragnair/alpha-zero-general"
   ]
  },
  {
   "cell_type": "markdown",
   "metadata": {},
   "source": [
    "# Install this to play in jupyter lab"
   ]
  },
  {
   "cell_type": "raw",
   "metadata": {},
   "source": [
    "conda install -c conda-forge ipympl\n",
    "conda install -c conda-forge widgetsnbextension\n",
    "conda install nodejs\n",
    "jupyter labextension install @jupyter-widgets/jupyterlab-manager\n",
    "jupyter labextension install jupyter-matplotlib"
   ]
  },
  {
   "cell_type": "markdown",
   "metadata": {},
   "source": [
    "# Imports"
   ]
  },
  {
   "cell_type": "code",
   "execution_count": 2,
   "metadata": {},
   "outputs": [],
   "source": [
    "# General Libraries\n",
    "from matplotlib import pyplot as plt\n",
    "import numpy as np"
   ]
  },
  {
   "cell_type": "code",
   "execution_count": 3,
   "metadata": {},
   "outputs": [],
   "source": [
    "# Libraries from https://github.com/suragnair/alpha-zero-general\n",
    "from othello.OthelloGame import OthelloGame as Game\n",
    "from othello.OthelloGame import display as displayGame"
   ]
  },
  {
   "cell_type": "code",
   "execution_count": 4,
   "metadata": {},
   "outputs": [],
   "source": [
    "# Libraries created in this project\n",
    "from othello_jupyter_play import Play_Othello\n",
    "from othello_viz import display_board"
   ]
  },
  {
   "cell_type": "code",
   "execution_count": 25,
   "metadata": {},
   "outputs": [],
   "source": [
    "from urllib.request import urlopen # Python 3\n",
    "def download_value_func(link, filename = 'test.npy'):\n",
    "    response = urlopen(link)\n",
    "    file_size = response.length\n",
    "    CHUNK = 16 * 1024\n",
    "    downloaded = 0\n",
    "    print('Donwloading: ', link)\n",
    "    print('Saving it as: ', filename)\n",
    "    with open(filename, 'wb') as f:\n",
    "        while True:\n",
    "            read_chunk = response.read(CHUNK)\n",
    "            if not read_chunk:\n",
    "                break\n",
    "            downloaded = downloaded + len(read_chunk)\n",
    "            print('\\r','Progress: %'+str(int(100*downloaded/file_size + 0.5)), end='')\n",
    "            f.write(read_chunk)\n",
    "    print()"
   ]
  },
  {
   "cell_type": "code",
   "execution_count": 30,
   "metadata": {},
   "outputs": [],
   "source": [
    "solutions = {\n",
    "    'WIN_LOOSE': {'value_func': {'filename': 'V_WIN_LOOSE.npy', 'url': ''}},\n",
    "    'MAXIMIZE_MARGIN': {'value_func': {'filename': 'V_MAXIMIZE_MARGIN.npy', 'url': ''}},\n",
    "    'MINIMIZE_PIECES': {'value_func': {'filename': 'V_MINIMIZE_PIECES.npy', 'url': ''}},\n",
    "    'MINIMIZE_STEPS': {'value_func': {'filename': 'V_MINIMIZE_STEPS.npy', 'url': ''}}\n",
    "}"
   ]
  },
  {
   "cell_type": "code",
   "execution_count": 26,
   "metadata": {},
   "outputs": [
    {
     "name": "stdout",
     "output_type": "stream",
     "text": [
      "Donwloading:  https://github.com/jganzabal/othello-reinforcement-learning/blob/master/Value_func_steps_reward.npy?raw=true\n",
      "Saving it as:  test.npy\n",
      " Progress: %100\n",
      "CPU times: user 1.34 s, sys: 497 ms, total: 1.83 s\n",
      "Wall time: 1min 22s\n"
     ]
    }
   ],
   "source": [
    "link = \"https://github.com/jganzabal/othello-reinforcement-learning/blob/master/Value_func_steps_reward.npy?raw=true\"\n",
    "\n",
    "%time download_value_func(link)"
   ]
  },
  {
   "cell_type": "code",
   "execution_count": null,
   "metadata": {},
   "outputs": [],
   "source": []
  },
  {
   "cell_type": "code",
   "execution_count": 25,
   "metadata": {},
   "outputs": [],
   "source": [
    "# ! wget https://github.com/jganzabal/othello-reinforcement-learning/blob/master/Value_func_margin_reward.npy?raw=true\n",
    "# ! wget https://github.com/jganzabal/othello-reinforcement-learning/blob/master/Value_func_only_winner.npy?raw=true\n",
    "# ! wget https://github.com/jganzabal/othello-reinforcement-learning/blob/master/Value_func_steps_reward.npy?raw=true"
   ]
  },
  {
   "cell_type": "code",
   "execution_count": 6,
   "metadata": {},
   "outputs": [],
   "source": [
    "#optimum_V = np.load('Value_func_only_winner.npy').item()\n",
    "#optimum_V = np.load('Value_func_margin_reward.npy').item()\n",
    "#optimum_V = np.load('Value_func_min_pieces_reward.npy').item()\n",
    "optimum_V = np.load('test.npy').item()\n",
    "\n",
    "# Recordar que para Value_func_steps_reward arranca en 2 por que es el peso que tiene el siguiente paso\n",
    "# Se podría poner el Value del tablero para hacerlo mas claro"
   ]
  },
  {
   "cell_type": "code",
   "execution_count": 9,
   "metadata": {},
   "outputs": [
    {
     "data": {
      "application/vnd.jupyter.widget-view+json": {
       "model_id": "0ec643429c3e4eb492dd1c2d158f72e1",
       "version_major": 2,
       "version_minor": 0
      },
      "text/plain": [
       "FigureCanvasNbAgg()"
      ]
     },
     "metadata": {},
     "output_type": "display_data"
    }
   ],
   "source": [
    "%matplotlib widget\n",
    "# Defino juego\n",
    "play_othello = Play_Othello(n=4, \n",
    "                            first_player=1, \n",
    "                            board=None, \n",
    "                            figsize = (3, 3), \n",
    "                            value_func = optimum_V)"
   ]
  },
  {
   "cell_type": "code",
   "execution_count": 8,
   "metadata": {},
   "outputs": [
    {
     "data": {
      "application/vnd.jupyter.widget-view+json": {
       "model_id": "5a8a5800faac452f975a585010c38523",
       "version_major": 2,
       "version_minor": 0
      },
      "text/plain": [
       "FigureCanvasNbAgg()"
      ]
     },
     "metadata": {},
     "output_type": "display_data"
    }
   ],
   "source": [
    "%matplotlib widget\n",
    "play_othello = Play_Othello(n=8, first_player=-1, figsize=(3,3))"
   ]
  },
  {
   "cell_type": "code",
   "execution_count": 9,
   "metadata": {},
   "outputs": [],
   "source": [
    "n = 4\n",
    "game = Game(n)\n",
    "board = game.getInitBoard()"
   ]
  },
  {
   "cell_type": "code",
   "execution_count": 10,
   "metadata": {},
   "outputs": [],
   "source": [
    "board = np.array([[ -1,  -1,  -1,  1],\n",
    "       [ -1, -1,  1,  0],\n",
    "       [ -1,  1, 1,  0],\n",
    "       [ 1,  -1,  0,  1]])"
   ]
  },
  {
   "cell_type": "code",
   "execution_count": 11,
   "metadata": {},
   "outputs": [
    {
     "data": {
      "application/vnd.jupyter.widget-view+json": {
       "model_id": "3a135245eea54341bd11dabcf54f1868",
       "version_major": 2,
       "version_minor": 0
      },
      "text/plain": [
       "FigureCanvasNbAgg()"
      ]
     },
     "metadata": {},
     "output_type": "display_data"
    }
   ],
   "source": [
    "display_board(game, board, player_turn= -1, \n",
    "            valid_moves = game.getValidMoves(board, -1), value_func = optimum_V)"
   ]
  },
  {
   "cell_type": "code",
   "execution_count": 12,
   "metadata": {},
   "outputs": [
    {
     "data": {
      "text/plain": [
       "array([0, 0, 0, 0, 0, 0, 0, 1, 0, 0, 0, 1, 0, 0, 1, 0, 0])"
      ]
     },
     "execution_count": 12,
     "metadata": {},
     "output_type": "execute_result"
    }
   ],
   "source": [
    "game.getValidMoves(board, -1)"
   ]
  },
  {
   "cell_type": "code",
   "execution_count": null,
   "metadata": {},
   "outputs": [],
   "source": []
  }
 ],
 "metadata": {
  "kernelspec": {
   "display_name": "Python 3",
   "language": "python",
   "name": "python3"
  },
  "language_info": {
   "codemirror_mode": {
    "name": "ipython",
    "version": 3
   },
   "file_extension": ".py",
   "mimetype": "text/x-python",
   "name": "python",
   "nbconvert_exporter": "python",
   "pygments_lexer": "ipython3",
   "version": "3.6.8"
  }
 },
 "nbformat": 4,
 "nbformat_minor": 2
}
