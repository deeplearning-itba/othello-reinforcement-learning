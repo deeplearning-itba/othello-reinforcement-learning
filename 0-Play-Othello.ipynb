{
 "cells": [
  {
   "cell_type": "code",
   "execution_count": 1,
   "metadata": {},
   "outputs": [],
   "source": [
    "%load_ext autoreload\n",
    "%autoreload 2\n",
    "%config InlineBackend.figure_format = 'retina'"
   ]
  },
  {
   "cell_type": "raw",
   "metadata": {},
   "source": [
    "conda install -c conda-forge ipympl\n",
    "# If using the Notebook\n",
    "conda install -c conda-forge widgetsnbextension\n",
    "# If using JupyterLab\n",
    "conda install nodejs\n",
    "jupyter labextension install @jupyter-widgets/jupyterlab-manager\n",
    "jupyter labextension install jupyter-matplotlib"
   ]
  },
  {
   "cell_type": "code",
   "execution_count": 2,
   "metadata": {},
   "outputs": [],
   "source": [
    "from othello.OthelloGame import OthelloGame as Game\n",
    "from othello.OthelloGame import display as displayGame\n",
    "from othello_viz import display_board\n",
    "from matplotlib import pyplot as plt"
   ]
  },
  {
   "cell_type": "code",
   "execution_count": 30,
   "metadata": {},
   "outputs": [],
   "source": [
    "from othello_jupyter_play import Play_Othello"
   ]
  },
  {
   "cell_type": "code",
   "execution_count": 54,
   "metadata": {},
   "outputs": [],
   "source": [
    "import urllib\n",
    "\n",
    "link = \"https://github.com/jganzabal/othello-reinforcement-learning/blob/master/Value_func_steps_reward.npy?raw=true\"\n",
    "\n",
    "f = urllib.request.urlretrieve()\n",
    "myfile = f.read()\n",
    "\n",
    "# writeFileObj = open('output.xml', 'wb')\n",
    "# writeFileObj.write(myfile)\n",
    "# writeFileObj.close()"
   ]
  },
  {
   "cell_type": "code",
   "execution_count": 64,
   "metadata": {},
   "outputs": [
    {
     "data": {
      "text/plain": [
       "16384"
      ]
     },
     "execution_count": 64,
     "metadata": {},
     "output_type": "execute_result"
    }
   ],
   "source": [
    "len(chunk)"
   ]
  },
  {
   "cell_type": "code",
   "execution_count": 68,
   "metadata": {},
   "outputs": [
    {
     "name": "stdout",
     "output_type": "stream",
     "text": [
      " 1.0"
     ]
    }
   ],
   "source": [
    "from urllib.request import urlopen # Python 3\n",
    "\n",
    "response = urlopen(link)\n",
    "file_size = response.length\n",
    "CHUNK = 16 * 1024\n",
    "downloaded = 0\n",
    "with open('test.npy', 'wb') as f:\n",
    "    while True:\n",
    "        read_chunk = response.read(CHUNK)\n",
    "        if not read_chunk:\n",
    "            break\n",
    "        downloaded = downloaded + len(read_chunk)\n",
    "        print('\\r',downloaded/file_size, end='')\n",
    "        f.write(read_chunk)"
   ]
  },
  {
   "cell_type": "code",
   "execution_count": null,
   "metadata": {},
   "outputs": [],
   "source": []
  },
  {
   "cell_type": "code",
   "execution_count": 35,
   "metadata": {},
   "outputs": [],
   "source": [
    "import urllib"
   ]
  },
  {
   "cell_type": "code",
   "execution_count": 53,
   "metadata": {},
   "outputs": [],
   "source": [
    "# _ = urllib.request.urlretrieve('https://github.com/jganzabal/othello-reinforcement-learning/blob/master/Value_func_margin_reward.npy?raw=true',\n",
    "#                               filename='Value_func_margin_reward.npy')\n",
    "_ = urllib.request.urlretrieve('https://github.com/jganzabal/othello-reinforcement-learning/blob/master/Value_func_steps_reward.npy?raw=true',\n",
    "                              filename='Value_func_steps_reward.npy')"
   ]
  },
  {
   "cell_type": "code",
   "execution_count": 38,
   "metadata": {},
   "outputs": [],
   "source": [
    "# ! wget https://github.com/jganzabal/othello-reinforcement-learning/blob/master/Value_func_margin_reward.npy?raw=true\n",
    "# ! wget https://github.com/jganzabal/othello-reinforcement-learning/blob/master/Value_func_only_winner.npy?raw=true\n",
    "#! wget https://github.com/jganzabal/othello-reinforcement-learning/blob/master/Value_func_steps_reward.npy?raw=true"
   ]
  },
  {
   "cell_type": "code",
   "execution_count": 45,
   "metadata": {},
   "outputs": [],
   "source": [
    "import numpy as np\n",
    "#optimum_V = np.load('Value_func_only_winner.npy').item()\n",
    "optimum_V = np.load('Value_func_margin_reward.npy').item()\n",
    "#optimum_V = np.load('Value_func_steps_reward.npy').item()"
   ]
  },
  {
   "cell_type": "code",
   "execution_count": 28,
   "metadata": {},
   "outputs": [
    {
     "data": {
      "application/vnd.jupyter.widget-view+json": {
       "model_id": "6bb36d5ea2f74fa0a57912e1a36936ac",
       "version_major": 2,
       "version_minor": 0
      },
      "text/plain": [
       "FigureCanvasNbAgg()"
      ]
     },
     "metadata": {},
     "output_type": "display_data"
    }
   ],
   "source": [
    "%matplotlib widget\n",
    "# Defino juego\n",
    "play_othello = Play_Othello(n=4, \n",
    "                            first_player=1, \n",
    "                            board=None, \n",
    "                            figsize = (3, 3), \n",
    "                            value_func = optimum_V)"
   ]
  },
  {
   "cell_type": "code",
   "execution_count": 27,
   "metadata": {},
   "outputs": [
    {
     "data": {
      "application/vnd.jupyter.widget-view+json": {
       "model_id": "",
       "version_major": 2,
       "version_minor": 0
      },
      "text/plain": [
       "FigureCanvasNbAgg()"
      ]
     },
     "metadata": {},
     "output_type": "display_data"
    }
   ],
   "source": [
    "%matplotlib widget\n",
    "play_othello = Play_Othello(n=8, first_player=-1, figsize=(3,3))"
   ]
  },
  {
   "cell_type": "code",
   "execution_count": 117,
   "metadata": {},
   "outputs": [],
   "source": [
    "n = 4\n",
    "game = Game(n)\n",
    "board = game.getInitBoard()"
   ]
  },
  {
   "cell_type": "code",
   "execution_count": 118,
   "metadata": {},
   "outputs": [],
   "source": [
    "board = np.array([[ -1,  -1,  -1,  1],\n",
    "       [ -1, -1,  1,  0],\n",
    "       [ -1,  1, 1,  0],\n",
    "       [ 1,  -1,  0,  1]])"
   ]
  },
  {
   "cell_type": "code",
   "execution_count": 119,
   "metadata": {},
   "outputs": [
    {
     "data": {
      "application/vnd.jupyter.widget-view+json": {
       "model_id": "",
       "version_major": 2,
       "version_minor": 0
      },
      "text/plain": [
       "FigureCanvasNbAgg()"
      ]
     },
     "metadata": {},
     "output_type": "display_data"
    }
   ],
   "source": [
    "display_board(game, board, player_turn= -1, \n",
    "            valid_moves = game.getValidMoves(board, -1), value_func = optimum_V)"
   ]
  },
  {
   "cell_type": "code",
   "execution_count": 79,
   "metadata": {},
   "outputs": [
    {
     "data": {
      "text/plain": [
       "array([0, 0, 0, 0, 0, 0, 0, 1, 0, 0, 0, 1, 0, 0, 1, 0, 0])"
      ]
     },
     "execution_count": 79,
     "metadata": {},
     "output_type": "execute_result"
    }
   ],
   "source": [
    "game.getValidMoves(board, -1)"
   ]
  },
  {
   "cell_type": "code",
   "execution_count": null,
   "metadata": {},
   "outputs": [],
   "source": []
  }
 ],
 "metadata": {
  "kernelspec": {
   "display_name": "Python 3",
   "language": "python",
   "name": "python3"
  },
  "language_info": {
   "codemirror_mode": {
    "name": "ipython",
    "version": 3
   },
   "file_extension": ".py",
   "mimetype": "text/x-python",
   "name": "python",
   "nbconvert_exporter": "python",
   "pygments_lexer": "ipython3",
   "version": "3.6.8"
  }
 },
 "nbformat": 4,
 "nbformat_minor": 2
}
