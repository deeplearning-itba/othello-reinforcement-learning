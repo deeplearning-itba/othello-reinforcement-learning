{
 "cells": [
  {
   "cell_type": "code",
   "execution_count": 5,
   "metadata": {},
   "outputs": [
    {
     "name": "stdout",
     "output_type": "stream",
     "text": [
      "The autoreload extension is already loaded. To reload it, use:\n",
      "  %reload_ext autoreload\n"
     ]
    }
   ],
   "source": [
    "%load_ext autoreload\n",
    "%autoreload 2"
   ]
  },
  {
   "cell_type": "code",
   "execution_count": 6,
   "metadata": {},
   "outputs": [],
   "source": [
    "from othello.OthelloGame import OthelloGame as Game\n",
    "from othello.OthelloGame import display as displayGame\n",
    "from matplotlib import pyplot as plt\n",
    "from matplotlib import patches\n",
    "import numpy as np"
   ]
  },
  {
   "cell_type": "code",
   "execution_count": 7,
   "metadata": {},
   "outputs": [],
   "source": [
    "class dotdict(dict):\n",
    "    def __getattr__(self, name):\n",
    "        return self[name]"
   ]
  },
  {
   "cell_type": "code",
   "execution_count": 8,
   "metadata": {},
   "outputs": [],
   "source": [
    "from MCTS import MCTS"
   ]
  },
  {
   "cell_type": "code",
   "execution_count": 9,
   "metadata": {},
   "outputs": [],
   "source": [
    "class RandomPlayer():\n",
    "    def __init__(self, game):\n",
    "        self.game = game\n",
    "        \n",
    "    def predict(self, canonicalBoard):\n",
    "        valid_modes = self.game.getValidMoves(board, 1)\n",
    "        valid_modes = valid_modes/valid_modes.sum()\n",
    "        return  valid_modes, game.getGameEnded(board, 1)"
   ]
  },
  {
   "cell_type": "code",
   "execution_count": 10,
   "metadata": {},
   "outputs": [],
   "source": [
    "n = 4\n",
    "game = Game(n)\n",
    "board = game.getInitBoard()\n",
    "nnet = RandomPlayer(game)"
   ]
  },
  {
   "cell_type": "code",
   "execution_count": 11,
   "metadata": {},
   "outputs": [],
   "source": [
    "board = np.array([[ 0,  0,  0,  0],\n",
    "       [ 0, -1,  1,  0],\n",
    "       [ 0,  1, -1,  0],\n",
    "       [ 0,  0,  0,  0]])"
   ]
  },
  {
   "cell_type": "code",
   "execution_count": 12,
   "metadata": {},
   "outputs": [],
   "source": [
    "board = np.array(\n",
    "    [[ 1,  -1,  -1,  1],\n",
    "    [ -1, -1,  1,  1],\n",
    "    [ 1,  1, -1,  1],\n",
    "    [ 1,  -1,  0,  0]])"
   ]
  },
  {
   "cell_type": "code",
   "execution_count": 13,
   "metadata": {},
   "outputs": [
    {
     "data": {
      "text/plain": [
       "array([[ 1, -1, -1,  1],\n",
       "       [-1, -1,  1,  1],\n",
       "       [ 1,  1, -1,  1],\n",
       "       [ 1, -1,  0,  0]])"
      ]
     },
     "execution_count": 13,
     "metadata": {},
     "output_type": "execute_result"
    }
   ],
   "source": [
    "board"
   ]
  },
  {
   "cell_type": "code",
   "execution_count": 14,
   "metadata": {},
   "outputs": [],
   "source": [
    "args = dotdict({\n",
    "    'numMCTSSims': 1000, # Cantidad de simulaciones de MC\n",
    "    'cpuct': 1\n",
    "})\n",
    "mcts = MCTS(game, nnet, args)"
   ]
  },
  {
   "cell_type": "code",
   "execution_count": 15,
   "metadata": {},
   "outputs": [],
   "source": [
    "ps = mcts.getActionProb(board)"
   ]
  },
  {
   "cell_type": "code",
   "execution_count": 16,
   "metadata": {},
   "outputs": [
    {
     "name": "stdout",
     "output_type": "stream",
     "text": [
      "[[ 1 -1 -1  1]\n",
      " [-1 -1  1  1]\n",
      " [ 1  1 -1  1]\n",
      " [ 1 -1  0  0]] 14\n",
      "0.9989858012170385\n",
      "[[ 1 -1 -1  1]\n",
      " [-1 -1  1  1]\n",
      " [ 1  1 -1  1]\n",
      " [ 1 -1  0  0]] 15\n",
      "-0.1846153846153846\n",
      "[[-1  1  1 -1]\n",
      " [ 1  1 -1 -1]\n",
      " [-1 -1 -1 -1]\n",
      " [-1 -1 -1  0]] 15\n",
      "-1.0\n",
      "[[-1  1  1 -1]\n",
      " [ 1 -1 -1 -1]\n",
      " [-1 -1 -1 -1]\n",
      " [-1  1  0 -1]] 14\n",
      "0.19999999999999998\n"
     ]
    }
   ],
   "source": [
    "for board_str, v in mcts.Qsa:\n",
    "    b = np.frombuffer(board_str, dtype=int).reshape(game.n, game.n)\n",
    "    print(b, v)\n",
    "    print(mcts.Qsa[(board_str, v)])"
   ]
  },
  {
   "cell_type": "code",
   "execution_count": null,
   "metadata": {},
   "outputs": [],
   "source": []
  },
  {
   "cell_type": "code",
   "execution_count": null,
   "metadata": {},
   "outputs": [],
   "source": []
  }
 ],
 "metadata": {
  "kernelspec": {
   "display_name": "Python 3",
   "language": "python",
   "name": "python3"
  },
  "language_info": {
   "codemirror_mode": {
    "name": "ipython",
    "version": 3
   },
   "file_extension": ".py",
   "mimetype": "text/x-python",
   "name": "python",
   "nbconvert_exporter": "python",
   "pygments_lexer": "ipython3",
   "version": "3.6.8"
  }
 },
 "nbformat": 4,
 "nbformat_minor": 2
}
